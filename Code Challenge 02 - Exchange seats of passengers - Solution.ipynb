{
 "cells": [
  {
   "cell_type": "markdown",
   "metadata": {
    "application/vnd.databricks.v1+cell": {
     "cellMetadata": {
      "byteLimit": 2048000,
      "rowLimit": 10000
     },
     "inputWidgets": {},
     "nuid": "f43536b1-5f04-4eeb-8813-8581f6b1e1b8",
     "showTitle": false,
     "title": ""
    }
   },
   "source": [
    "# Exchange Seats\n",
    "### The objective of the code challenge is exchange the seats.<br>\n",
    "\n",
    "> *For instance person on seat number one will be on seat number two and person in number two on seat number one*\n",
    "\n",
    "\n",
    "\n"
   ]
  },
  {
   "cell_type": "code",
   "execution_count": 0,
   "metadata": {
    "application/vnd.databricks.v1+cell": {
     "cellMetadata": {
      "byteLimit": 2048000,
      "rowLimit": 10000
     },
     "inputWidgets": {},
     "nuid": "b2bb0a09-f9f2-4068-a6d4-6ef3e60e8adf",
     "showTitle": false,
     "title": ""
    }
   },
   "outputs": [],
   "source": [
    "\n",
    "# Input table:\n",
    "# +------------+--------------+\n",
    "# |     Seat   |  Name        |\n",
    "# +------------+--------------+\n",
    "# | 1          | Samara       |\n",
    "# | 2          | Bria         |\n",
    "# | 3          | Leroy        |\n",
    "# | 4          | Mallory      |\n",
    "# | 5          | Louis        |\n",
    "# | 6          | Alessandro   |\n",
    "# +------------+--------------+\n"
   ]
  },
  {
   "cell_type": "code",
   "execution_count": 0,
   "metadata": {
    "application/vnd.databricks.v1+cell": {
     "cellMetadata": {
      "byteLimit": 2048000,
      "rowLimit": 10000
     },
     "inputWidgets": {},
     "nuid": "a2efb71e-cfa8-4f3c-aadd-9c7849b98e4b",
     "showTitle": false,
     "title": ""
    }
   },
   "outputs": [],
   "source": [
    "from pyspark.sql.functions import lag, lead, when, col, coalesce\n",
    "from pyspark.sql.window import Window"
   ]
  },
  {
   "cell_type": "code",
   "execution_count": 0,
   "metadata": {
    "application/vnd.databricks.v1+cell": {
     "cellMetadata": {
      "byteLimit": 2048000,
      "rowLimit": 10000
     },
     "inputWidgets": {},
     "nuid": "2200ad83-91fe-40b5-b16e-10613c5257ca",
     "showTitle": true,
     "title": "Create Dataset"
    }
   },
   "outputs": [
    {
     "output_type": "display_data",
     "data": {
      "text/html": [
       "<style scoped>\n",
       "  .table-result-container {\n",
       "    max-height: 300px;\n",
       "    overflow: auto;\n",
       "  }\n",
       "  table, th, td {\n",
       "    border: 1px solid black;\n",
       "    border-collapse: collapse;\n",
       "  }\n",
       "  th, td {\n",
       "    padding: 5px;\n",
       "  }\n",
       "  th {\n",
       "    text-align: left;\n",
       "  }\n",
       "</style><div class='table-result-container'><table class='table-result'><thead style='background-color: white'><tr><th>seat</th><th>name</th></tr></thead><tbody><tr><td>1</td><td>Samara</td></tr><tr><td>2</td><td>Bria</td></tr><tr><td>3</td><td>Leroy</td></tr><tr><td>4</td><td>Mallory</td></tr><tr><td>5</td><td>Louis</td></tr><tr><td>6</td><td>Alessandro</td></tr></tbody></table></div>"
      ]
     },
     "metadata": {
      "application/vnd.databricks.v1+output": {
       "addedWidgets": {},
       "aggData": [],
       "aggError": "",
       "aggOverflow": false,
       "aggSchema": [],
       "aggSeriesLimitReached": false,
       "aggType": "",
       "arguments": {},
       "columnCustomDisplayInfos": {},
       "data": [
        [
         1,
         "Samara"
        ],
        [
         2,
         "Bria"
        ],
        [
         3,
         "Leroy"
        ],
        [
         4,
         "Mallory"
        ],
        [
         5,
         "Louis"
        ],
        [
         6,
         "Alessandro"
        ]
       ],
       "datasetInfos": [],
       "dbfsResultPath": null,
       "isJsonSchema": true,
       "metadata": {},
       "overflow": false,
       "plotOptions": {
        "customPlotOptions": {},
        "displayType": "table",
        "pivotAggregation": null,
        "pivotColumns": null,
        "xColumns": null,
        "yColumns": null
       },
       "removedWidgets": [],
       "schema": [
        {
         "metadata": "{}",
         "name": "seat",
         "type": "\"long\""
        },
        {
         "metadata": "{}",
         "name": "name",
         "type": "\"string\""
        }
       ],
       "type": "table"
      }
     },
     "output_type": "display_data"
    }
   ],
   "source": [
    "data = [(1,'Samara'),(2,'Bria'),(3,'Leroy'),(4,'Mallory'),(5,'Louis'),(6,'Alessandro')]\n",
    "df = spark.createDataFrame(data,['seat','name'])\n",
    "display(df)"
   ]
  },
  {
   "cell_type": "code",
   "execution_count": 0,
   "metadata": {
    "application/vnd.databricks.v1+cell": {
     "cellMetadata": {
      "byteLimit": 2048000,
      "rowLimit": 10000
     },
     "inputWidgets": {},
     "nuid": "6b341ad1-d674-4fc1-8d4e-097a4fac7260",
     "showTitle": true,
     "title": "Find Next and Previous Seat for each student"
    }
   },
   "outputs": [
    {
     "output_type": "display_data",
     "data": {
      "text/html": [
       "<style scoped>\n",
       "  .table-result-container {\n",
       "    max-height: 300px;\n",
       "    overflow: auto;\n",
       "  }\n",
       "  table, th, td {\n",
       "    border: 1px solid black;\n",
       "    border-collapse: collapse;\n",
       "  }\n",
       "  th, td {\n",
       "    padding: 5px;\n",
       "  }\n",
       "  th {\n",
       "    text-align: left;\n",
       "  }\n",
       "</style><div class='table-result-container'><table class='table-result'><thead style='background-color: white'><tr><th>seat</th><th>name</th><th>prev_name_seat</th><th>next_name_seat</th></tr></thead><tbody><tr><td>1</td><td>Samara</td><td>null</td><td>Bria</td></tr><tr><td>2</td><td>Bria</td><td>Samara</td><td>Leroy</td></tr><tr><td>3</td><td>Leroy</td><td>Bria</td><td>Mallory</td></tr><tr><td>4</td><td>Mallory</td><td>Leroy</td><td>Louis</td></tr><tr><td>5</td><td>Louis</td><td>Mallory</td><td>Alessandro</td></tr><tr><td>6</td><td>Alessandro</td><td>Louis</td><td>null</td></tr></tbody></table></div>"
      ]
     },
     "metadata": {
      "application/vnd.databricks.v1+output": {
       "addedWidgets": {},
       "aggData": [],
       "aggError": "",
       "aggOverflow": false,
       "aggSchema": [],
       "aggSeriesLimitReached": false,
       "aggType": "",
       "arguments": {},
       "columnCustomDisplayInfos": {},
       "data": [
        [
         1,
         "Samara",
         null,
         "Bria"
        ],
        [
         2,
         "Bria",
         "Samara",
         "Leroy"
        ],
        [
         3,
         "Leroy",
         "Bria",
         "Mallory"
        ],
        [
         4,
         "Mallory",
         "Leroy",
         "Louis"
        ],
        [
         5,
         "Louis",
         "Mallory",
         "Alessandro"
        ],
        [
         6,
         "Alessandro",
         "Louis",
         null
        ]
       ],
       "datasetInfos": [],
       "dbfsResultPath": null,
       "isJsonSchema": true,
       "metadata": {},
       "overflow": false,
       "plotOptions": {
        "customPlotOptions": {},
        "displayType": "table",
        "pivotAggregation": null,
        "pivotColumns": null,
        "xColumns": null,
        "yColumns": null
       },
       "removedWidgets": [],
       "schema": [
        {
         "metadata": "{}",
         "name": "seat",
         "type": "\"long\""
        },
        {
         "metadata": "{}",
         "name": "name",
         "type": "\"string\""
        },
        {
         "metadata": "{}",
         "name": "prev_name_seat",
         "type": "\"string\""
        },
        {
         "metadata": "{}",
         "name": "next_name_seat",
         "type": "\"string\""
        }
       ],
       "type": "table"
      }
     },
     "output_type": "display_data"
    }
   ],
   "source": [
    "exchange_seat = df.withColumn('prev_name_seat', lag('name').over(Window.orderBy('seat')))\n",
    "exchange_seat = exchange_seat.withColumn('next_name_seat', lead('name').over(Window.orderBy('seat')))\n",
    "display(exchange_seat)"
   ]
  },
  {
   "cell_type": "code",
   "execution_count": 0,
   "metadata": {
    "application/vnd.databricks.v1+cell": {
     "cellMetadata": {
      "byteLimit": 2048000,
      "rowLimit": 10000
     },
     "inputWidgets": {},
     "nuid": "9ee719ff-6dc8-4122-bbfc-216361b7b92a",
     "showTitle": true,
     "title": "Exchange the Seat Based on Odd/Even Logic"
    }
   },
   "outputs": [
    {
     "output_type": "display_data",
     "data": {
      "text/html": [
       "<style scoped>\n",
       "  .table-result-container {\n",
       "    max-height: 300px;\n",
       "    overflow: auto;\n",
       "  }\n",
       "  table, th, td {\n",
       "    border: 1px solid black;\n",
       "    border-collapse: collapse;\n",
       "  }\n",
       "  th, td {\n",
       "    padding: 5px;\n",
       "  }\n",
       "  th {\n",
       "    text-align: left;\n",
       "  }\n",
       "</style><div class='table-result-container'><table class='table-result'><thead style='background-color: white'><tr><th>seat</th><th>name</th><th>prev_name_seat</th><th>next_name_seat</th><th>exchanged_seating</th></tr></thead><tbody><tr><td>1</td><td>Samara</td><td>null</td><td>Bria</td><td>Bria</td></tr><tr><td>2</td><td>Bria</td><td>Samara</td><td>Leroy</td><td>Samara</td></tr><tr><td>3</td><td>Leroy</td><td>Bria</td><td>Mallory</td><td>Mallory</td></tr><tr><td>4</td><td>Mallory</td><td>Leroy</td><td>Louis</td><td>Leroy</td></tr><tr><td>5</td><td>Louis</td><td>Mallory</td><td>Alessandro</td><td>Alessandro</td></tr><tr><td>6</td><td>Alessandro</td><td>Louis</td><td>null</td><td>Louis</td></tr></tbody></table></div>"
      ]
     },
     "metadata": {
      "application/vnd.databricks.v1+output": {
       "addedWidgets": {},
       "aggData": [],
       "aggError": "",
       "aggOverflow": false,
       "aggSchema": [],
       "aggSeriesLimitReached": false,
       "aggType": "",
       "arguments": {},
       "columnCustomDisplayInfos": {},
       "data": [
        [
         1,
         "Samara",
         null,
         "Bria",
         "Bria"
        ],
        [
         2,
         "Bria",
         "Samara",
         "Leroy",
         "Samara"
        ],
        [
         3,
         "Leroy",
         "Bria",
         "Mallory",
         "Mallory"
        ],
        [
         4,
         "Mallory",
         "Leroy",
         "Louis",
         "Leroy"
        ],
        [
         5,
         "Louis",
         "Mallory",
         "Alessandro",
         "Alessandro"
        ],
        [
         6,
         "Alessandro",
         "Louis",
         null,
         "Louis"
        ]
       ],
       "datasetInfos": [],
       "dbfsResultPath": null,
       "isJsonSchema": true,
       "metadata": {},
       "overflow": false,
       "plotOptions": {
        "customPlotOptions": {},
        "displayType": "table",
        "pivotAggregation": null,
        "pivotColumns": null,
        "xColumns": null,
        "yColumns": null
       },
       "removedWidgets": [],
       "schema": [
        {
         "metadata": "{}",
         "name": "seat",
         "type": "\"long\""
        },
        {
         "metadata": "{}",
         "name": "name",
         "type": "\"string\""
        },
        {
         "metadata": "{}",
         "name": "prev_name_seat",
         "type": "\"string\""
        },
        {
         "metadata": "{}",
         "name": "next_name_seat",
         "type": "\"string\""
        },
        {
         "metadata": "{}",
         "name": "exchanged_seating",
         "type": "\"string\""
        }
       ],
       "type": "table"
      }
     },
     "output_type": "display_data"
    }
   ],
   "source": [
    "exchange_seat = exchange_seat.withColumn('exchanged_seating',\n",
    "                                         when(exchange_seat['seat'] % 2 == 1, exchange_seat['next_name_seat'] )\n",
    "                                         .when(exchange_seat['seat'] % 2 == 0, exchange_seat['prev_name_seat'] )\n",
    "                                         .otherwise(exchange_seat['name'])\n",
    "                                         )\n",
    "\n",
    "display(exchange_seat)                                       "
   ]
  },
  {
   "cell_type": "code",
   "execution_count": 0,
   "metadata": {
    "application/vnd.databricks.v1+cell": {
     "cellMetadata": {
      "byteLimit": 2048000,
      "rowLimit": 10000
     },
     "inputWidgets": {},
     "nuid": "15ce3f99-1d5e-43e5-b25c-1f6eabc99b95",
     "showTitle": true,
     "title": "Remove Unwanted Column"
    }
   },
   "outputs": [
    {
     "output_type": "display_data",
     "data": {
      "text/html": [
       "<style scoped>\n",
       "  .table-result-container {\n",
       "    max-height: 300px;\n",
       "    overflow: auto;\n",
       "  }\n",
       "  table, th, td {\n",
       "    border: 1px solid black;\n",
       "    border-collapse: collapse;\n",
       "  }\n",
       "  th, td {\n",
       "    padding: 5px;\n",
       "  }\n",
       "  th {\n",
       "    text-align: left;\n",
       "  }\n",
       "</style><div class='table-result-container'><table class='table-result'><thead style='background-color: white'><tr><th>seat</th><th>exchanged_seating</th></tr></thead><tbody><tr><td>1</td><td>Bria</td></tr><tr><td>2</td><td>Samara</td></tr><tr><td>3</td><td>Mallory</td></tr><tr><td>4</td><td>Leroy</td></tr><tr><td>5</td><td>Alessandro</td></tr><tr><td>6</td><td>Louis</td></tr></tbody></table></div>"
      ]
     },
     "metadata": {
      "application/vnd.databricks.v1+output": {
       "addedWidgets": {},
       "aggData": [],
       "aggError": "",
       "aggOverflow": false,
       "aggSchema": [],
       "aggSeriesLimitReached": false,
       "aggType": "",
       "arguments": {},
       "columnCustomDisplayInfos": {},
       "data": [
        [
         1,
         "Bria"
        ],
        [
         2,
         "Samara"
        ],
        [
         3,
         "Mallory"
        ],
        [
         4,
         "Leroy"
        ],
        [
         5,
         "Alessandro"
        ],
        [
         6,
         "Louis"
        ]
       ],
       "datasetInfos": [],
       "dbfsResultPath": null,
       "isJsonSchema": true,
       "metadata": {},
       "overflow": false,
       "plotOptions": {
        "customPlotOptions": {},
        "displayType": "table",
        "pivotAggregation": null,
        "pivotColumns": null,
        "xColumns": null,
        "yColumns": null
       },
       "removedWidgets": [],
       "schema": [
        {
         "metadata": "{}",
         "name": "seat",
         "type": "\"long\""
        },
        {
         "metadata": "{}",
         "name": "exchanged_seating",
         "type": "\"string\""
        }
       ],
       "type": "table"
      }
     },
     "output_type": "display_data"
    }
   ],
   "source": [
    "exchange_seat = exchange_seat.drop('name','prev_name_seat','next_name_seat')\n",
    "exchange_seat.display()"
   ]
  },
  {
   "cell_type": "code",
   "execution_count": 0,
   "metadata": {
    "application/vnd.databricks.v1+cell": {
     "cellMetadata": {
      "byteLimit": 2048000,
      "rowLimit": 10000
     },
     "inputWidgets": {},
     "nuid": "4a26a770-c41a-4e6f-b026-8c26f56ec205",
     "showTitle": false,
     "title": ""
    }
   },
   "outputs": [],
   "source": []
  }
 ],
 "metadata": {
  "application/vnd.databricks.v1+notebook": {
   "dashboards": [],
   "language": "python",
   "notebookMetadata": {
    "pythonIndentUnit": 4
   },
   "notebookName": "Code Challenge 02 - Exchange seats of passengers - Solution",
   "widgets": {}
  }
 },
 "nbformat": 4,
 "nbformat_minor": 0
}
