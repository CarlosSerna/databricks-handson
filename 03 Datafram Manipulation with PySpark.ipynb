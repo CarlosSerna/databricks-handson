{
 "cells": [
  {
   "cell_type": "markdown",
   "metadata": {
    "application/vnd.databricks.v1+cell": {
     "cellMetadata": {
      "byteLimit": 2048000,
      "rowLimit": 10000
     },
     "inputWidgets": {},
     "nuid": "44e0d99c-f2cb-4a2f-82ac-d84ce8443ecf",
     "showTitle": false,
     "title": ""
    }
   },
   "source": [
    "\n",
    "<img src=\"https://databricks.gallerycdn.vsassets.io/extensions/databricks/databricks/1.1.5/1696858282359/Microsoft.VisualStudio.Services.Icons.Default\" alt=\"iconDatabricks\" width=\"100\"/>\n",
    "\n",
    "<br>\n",
    "\n",
    "\n",
    "## Databricks with PySpark\n",
    "------\n",
    "## Data manipulation with PySpark\n",
    "\n",
    "<br>\n",
    "The objective of this notebook is standarize the data coming from diferent tv/film companies\n",
    "<br>At the end we need to create 3 files\n",
    "<br>\n",
    "\n",
    "1. TV shows \n",
    "2. Movies\n",
    "3. Movies and TV shows"
   ]
  },
  {
   "cell_type": "code",
   "execution_count": 0,
   "metadata": {
    "application/vnd.databricks.v1+cell": {
     "cellMetadata": {
      "byteLimit": 2048000,
      "rowLimit": 10000
     },
     "inputWidgets": {},
     "nuid": "d84f4cbb-b055-4e22-a63b-a9488adde988",
     "showTitle": false,
     "title": ""
    }
   },
   "outputs": [],
   "source": [
    "from  pyspark.sql.functions import *\n",
    "from  pyspark.sql.types import *\n",
    "from  pyspark.sql.window import *"
   ]
  },
  {
   "cell_type": "markdown",
   "metadata": {
    "application/vnd.databricks.v1+cell": {
     "cellMetadata": {
      "byteLimit": 2048000,
      "rowLimit": 10000
     },
     "inputWidgets": {},
     "nuid": "02ff61e1-eba7-4b7e-9e42-a03cf393f722",
     "showTitle": false,
     "title": ""
    }
   },
   "source": [
    "------\n",
    "## Final Schema\n",
    "------  \n",
    "\n",
    "- **company**\n",
    "- **source_file_name**\n",
    "- **id** : string\n",
    "- **title** : string\n",
    "- **film_category** : string\n",
    "- **synopsis** : string\n",
    "- **short_synopsis**\n",
    "- **release_year** : integer\n",
    "- **film_clasification** : string\n",
    "- **runtime** : integer\n",
    "- **genres** : string\n",
    "- **main_genre**\n",
    "- **production_countries** : string\n",
    "- **main_production_country**\n",
    "- **seasons** : double \n",
    "- **imdb_score** : double\n",
    "- **imdb_votes** : double"
   ]
  },
  {
   "cell_type": "markdown",
   "metadata": {
    "application/vnd.databricks.v1+cell": {
     "cellMetadata": {
      "byteLimit": 2048000,
      "rowLimit": 10000
     },
     "inputWidgets": {},
     "nuid": "10c8b303-4c39-4c16-bdbd-320cf25d3d36",
     "showTitle": false,
     "title": ""
    }
   },
   "source": [
    "### Reading files"
   ]
  },
  {
   "cell_type": "code",
   "execution_count": 0,
   "metadata": {
    "application/vnd.databricks.v1+cell": {
     "cellMetadata": {
      "byteLimit": 2048000,
      "rowLimit": 10000
     },
     "inputWidgets": {},
     "nuid": "43989a89-045d-42f4-951b-769ee947cb76",
     "showTitle": false,
     "title": ""
    }
   },
   "outputs": [],
   "source": [
    "# Read the Appletv files\n",
    "# # Appletv sends json files\n",
    "# # Appletv sends only one file with both movies and series\n",
    "# # Name of the files appletv_titles.json"
   ]
  },
  {
   "cell_type": "code",
   "execution_count": 0,
   "metadata": {
    "application/vnd.databricks.v1+cell": {
     "cellMetadata": {
      "byteLimit": 2048000,
      "rowLimit": 10000
     },
     "inputWidgets": {},
     "nuid": "797a494b-55f5-4a28-9a27-74e543568d67",
     "showTitle": false,
     "title": ""
    }
   },
   "outputs": [],
   "source": [
    "appletv_titles = spark.read.options(inferSchema=True).json('/mnt/adl2/d3/70_training_dataset_D3/AMN_BIA/Databricks/databricks_training_files/appletv_titles.json')\n",
    "\n",
    "# adding 'company' and 'source_file_name'\n",
    "appletv_titles = appletv_titles.withColumn('source_file_name', input_file_name()).withColumn('company',lit('AppleTV'))"
   ]
  },
  {
   "cell_type": "code",
   "execution_count": 0,
   "metadata": {
    "application/vnd.databricks.v1+cell": {
     "cellMetadata": {
      "byteLimit": 2048000,
      "rowLimit": 10000
     },
     "inputWidgets": {},
     "nuid": "272bf329-c5fd-49d4-ad0e-eeddc868f316",
     "showTitle": false,
     "title": ""
    }
   },
   "outputs": [],
   "source": [
    "# Read the amazon files\n",
    "# # Amazon use pipes as delimiter \"|\"\n",
    "# # Amazon sends separated files for movies and series\n",
    "# # Name of the files amazon_movies, amazon_series\n",
    "\n",
    "amazon_titles = spark.read.options(header=True ,inferSchema=True, quote='\"',escape='\"', delimiter='|',multiLine=True).csv('/mnt/adl2/d3/70_training_dataset_D3/AMN_BIA/Databricks/databricks_training_files/amazon_*.csv')\n",
    "\n",
    "# adding 'company' and 'source_file_name'\n",
    "amazon_titles = amazon_titles.withColumn('source_file_name', input_file_name()).withColumn('company',lit('Amazon'))"
   ]
  },
  {
   "cell_type": "code",
   "execution_count": 0,
   "metadata": {
    "application/vnd.databricks.v1+cell": {
     "cellMetadata": {
      "byteLimit": 2048000,
      "rowLimit": 10000
     },
     "inputWidgets": {},
     "nuid": "2d6a453c-ec32-454b-a04e-79731c2529ee",
     "showTitle": false,
     "title": ""
    }
   },
   "outputs": [],
   "source": [
    "#drop columns that are not needed in the final output\n",
    "amazon_titles = amazon_titles.drop('imdb_id','tmdb_popularity','tmdb_score')\n",
    "#rename columns to match the final output\n",
    "amazon_titles = amazon_titles.withColumnRenamed('category','film_category').withColumnRenamed('age_certification','film_clasification').withColumnRenamed('description','synopsis')"
   ]
  },
  {
   "cell_type": "code",
   "execution_count": 0,
   "metadata": {
    "application/vnd.databricks.v1+cell": {
     "cellMetadata": {
      "byteLimit": 2048000,
      "rowLimit": 10000
     },
     "inputWidgets": {},
     "nuid": "90cff6c1-d2e2-4101-b12f-9eff9b6ff0f4",
     "showTitle": false,
     "title": ""
    }
   },
   "outputs": [],
   "source": [
    "# Read the Netflix files\n",
    "# # Reading complex csv files\n",
    "# # Netflix use comma as delimiter \",\"\n",
    "# # Netflix sends single file for movies and series\n",
    "# # Name of the files netflix_titles.csv\n",
    "\n",
    "netflix_titles = spark.read.options(header=True ,inferSchema=True,quote='\"',escape='\"', delimiter=',',multiLine=True).csv('/mnt/adl2/d3/70_training_dataset_D3/AMN_BIA/Databricks/databricks_training_files/netflix_titles.csv')\n",
    "\n",
    "# adding 'company' and 'source_file_name'\n",
    "netflix_titles = netflix_titles.withColumn('source_file_name', input_file_name()).withColumn('company',lit('Netflix'))"
   ]
  },
  {
   "cell_type": "markdown",
   "metadata": {
    "application/vnd.databricks.v1+cell": {
     "cellMetadata": {
      "byteLimit": 2048000,
      "rowLimit": 10000
     },
     "inputWidgets": {},
     "nuid": "06d5334f-c3e3-4775-9f4f-3352d1f6d7d3",
     "showTitle": false,
     "title": ""
    }
   },
   "source": [
    "### Union dataframes"
   ]
  },
  {
   "cell_type": "code",
   "execution_count": 0,
   "metadata": {
    "application/vnd.databricks.v1+cell": {
     "cellMetadata": {
      "byteLimit": 2048000,
      "rowLimit": 10000
     },
     "inputWidgets": {},
     "nuid": "1800fdc5-299d-443e-af2f-46a7292479a5",
     "showTitle": false,
     "title": ""
    }
   },
   "outputs": [],
   "source": [
    "# union dataframes\n"
   ]
  },
  {
   "cell_type": "markdown",
   "metadata": {
    "application/vnd.databricks.v1+cell": {
     "cellMetadata": {
      "byteLimit": 2048000,
      "rowLimit": 10000
     },
     "inputWidgets": {},
     "nuid": "6a9e165f-cb91-4279-adde-c64ee85f89e5",
     "showTitle": false,
     "title": ""
    }
   },
   "source": [
    "### Creating colums from current data"
   ]
  },
  {
   "cell_type": "code",
   "execution_count": 0,
   "metadata": {
    "application/vnd.databricks.v1+cell": {
     "cellMetadata": {
      "byteLimit": 2048000,
      "rowLimit": 10000
     },
     "inputWidgets": {},
     "nuid": "9fd19232-c3e6-45a9-9e46-15687835dfd4",
     "showTitle": false,
     "title": ""
    }
   },
   "outputs": [],
   "source": [
    "# Create the columns 'main_production_contry' and 'main_genre'\n",
    "# Creating columns in the select statement\n"
   ]
  },
  {
   "cell_type": "code",
   "execution_count": 0,
   "metadata": {
    "application/vnd.databricks.v1+cell": {
     "cellMetadata": {
      "byteLimit": 2048000,
      "rowLimit": 10000
     },
     "inputWidgets": {},
     "nuid": "59b7e66b-3b6d-4e69-bd35-716aa7bd4e63",
     "showTitle": false,
     "title": ""
    }
   },
   "outputs": [],
   "source": [
    "#display(df)"
   ]
  },
  {
   "cell_type": "code",
   "execution_count": 0,
   "metadata": {
    "application/vnd.databricks.v1+cell": {
     "cellMetadata": {
      "byteLimit": 2048000,
      "rowLimit": 10000
     },
     "inputWidgets": {},
     "nuid": "3ac58011-c3cc-44e7-8e60-ae4c171e4861",
     "showTitle": false,
     "title": ""
    }
   },
   "outputs": [],
   "source": [
    "# rename 'production_countries_clean' as 'production_countries' and 'genres_clean' as 'genres'\n"
   ]
  },
  {
   "cell_type": "code",
   "execution_count": 0,
   "metadata": {
    "application/vnd.databricks.v1+cell": {
     "cellMetadata": {},
     "inputWidgets": {},
     "nuid": "63bbd5dc-e14d-4c9d-a282-8c8386192443",
     "showTitle": false,
     "title": ""
    }
   },
   "outputs": [],
   "source": []
  },
  {
   "cell_type": "code",
   "execution_count": 0,
   "metadata": {
    "application/vnd.databricks.v1+cell": {
     "cellMetadata": {
      "byteLimit": 2048000,
      "rowLimit": 10000
     },
     "inputWidgets": {},
     "nuid": "69a1461f-7f86-4908-906c-6bce2e56e228",
     "showTitle": false,
     "title": ""
    }
   },
   "outputs": [],
   "source": [
    "# Creating short synopsis colum 'short_synopsis'\n"
   ]
  },
  {
   "cell_type": "code",
   "execution_count": 0,
   "metadata": {
    "application/vnd.databricks.v1+cell": {
     "cellMetadata": {
      "byteLimit": 2048000,
      "rowLimit": 10000
     },
     "inputWidgets": {},
     "nuid": "9a0c8f2c-8d81-405c-b61f-c4619a4e70d4",
     "showTitle": false,
     "title": ""
    }
   },
   "outputs": [],
   "source": [
    "# film_category evaluate in a case statement the current categories to have only 'Movie' and 'TV Show'\n",
    "# Use When Otherwise Function to create a column that evaluates if 'film_category' contains SHOW\n"
   ]
  },
  {
   "cell_type": "code",
   "execution_count": 0,
   "metadata": {
    "application/vnd.databricks.v1+cell": {
     "cellMetadata": {
      "byteLimit": 2048000,
      "rowLimit": 10000
     },
     "inputWidgets": {},
     "nuid": "d4d8f218-4a6d-4e68-920d-4c8f17083f9e",
     "showTitle": false,
     "title": ""
    }
   },
   "outputs": [],
   "source": [
    "#df.limit(3).display()"
   ]
  },
  {
   "cell_type": "code",
   "execution_count": 0,
   "metadata": {
    "application/vnd.databricks.v1+cell": {
     "cellMetadata": {
      "byteLimit": 2048000,
      "rowLimit": 10000
     },
     "inputWidgets": {},
     "nuid": "31a4de40-a710-4158-be6f-1cd9ee6d99fe",
     "showTitle": false,
     "title": ""
    }
   },
   "outputs": [],
   "source": [
    "column_order = ['company',\n",
    "'source_file_name',\n",
    "'id',\n",
    "'title',\n",
    "'film_category',\n",
    "'synopsis',\n",
    "'short_synopsis',\n",
    "'release_year',\n",
    "'film_clasification', \n",
    "'runtime',\n",
    "'genres',\n",
    "'main_genre',\n",
    "'production_countries',\n",
    "'main_production_country',\n",
    "'seasons',\n",
    "'imdb_score',\n",
    "'imdb_votes']"
   ]
  },
  {
   "cell_type": "code",
   "execution_count": 0,
   "metadata": {
    "application/vnd.databricks.v1+cell": {
     "cellMetadata": {
      "byteLimit": 2048000,
      "rowLimit": 10000
     },
     "inputWidgets": {},
     "nuid": "40d22430-bc9b-43ce-9173-e9b4f38d38e7",
     "showTitle": false,
     "title": ""
    }
   },
   "outputs": [],
   "source": [
    "# use the list column_order to reorder your df\n"
   ]
  },
  {
   "cell_type": "code",
   "execution_count": 0,
   "metadata": {
    "application/vnd.databricks.v1+cell": {
     "cellMetadata": {
      "byteLimit": 2048000,
      "rowLimit": 10000
     },
     "inputWidgets": {},
     "nuid": "89f1b510-59c3-4bb8-a1d2-eec038eeeadc",
     "showTitle": false,
     "title": ""
    }
   },
   "outputs": [],
   "source": [
    "# creata a df 'df_movies' and select all the columns except 'seasons' and filter film_category for movies only 'Movie'\n"
   ]
  },
  {
   "cell_type": "code",
   "execution_count": 0,
   "metadata": {
    "application/vnd.databricks.v1+cell": {
     "cellMetadata": {
      "byteLimit": 2048000,
      "rowLimit": 10000
     },
     "inputWidgets": {},
     "nuid": "266aca24-7632-4e3f-a561-38278007e725",
     "showTitle": false,
     "title": ""
    }
   },
   "outputs": [],
   "source": [
    "#df_movies.limit(10).display()"
   ]
  },
  {
   "cell_type": "code",
   "execution_count": 0,
   "metadata": {
    "application/vnd.databricks.v1+cell": {
     "cellMetadata": {
      "byteLimit": 2048000,
      "rowLimit": 10000
     },
     "inputWidgets": {},
     "nuid": "41c905e7-0c01-4be9-bdd7-a7a429447e5f",
     "showTitle": false,
     "title": ""
    }
   },
   "outputs": [],
   "source": [
    "#create a new df 'df_tvshows' and filter film_category = 'TV Show'\n"
   ]
  },
  {
   "cell_type": "code",
   "execution_count": 0,
   "metadata": {
    "application/vnd.databricks.v1+cell": {
     "cellMetadata": {
      "byteLimit": 2048000,
      "rowLimit": 10000
     },
     "inputWidgets": {},
     "nuid": "fb3a4b64-a4ac-4b82-b0ec-2d0f91ddd838",
     "showTitle": false,
     "title": ""
    }
   },
   "outputs": [],
   "source": [
    "#df_tvshows.limit(10).display()"
   ]
  },
  {
   "cell_type": "code",
   "execution_count": 0,
   "metadata": {
    "application/vnd.databricks.v1+cell": {
     "cellMetadata": {
      "byteLimit": 2048000,
      "rowLimit": 10000
     },
     "inputWidgets": {},
     "nuid": "f0255e48-8050-42a2-af49-7db4f54d2b8c",
     "showTitle": false,
     "title": ""
    }
   },
   "outputs": [],
   "source": [
    "# Add your Michelin Number\n",
    "e_number = \"E055026\""
   ]
  },
  {
   "cell_type": "code",
   "execution_count": 0,
   "metadata": {
    "application/vnd.databricks.v1+cell": {
     "cellMetadata": {
      "byteLimit": 2048000,
      "rowLimit": 10000
     },
     "inputWidgets": {},
     "nuid": "140e6168-ac9d-4803-817d-952a39e1689b",
     "showTitle": false,
     "title": ""
    }
   },
   "outputs": [],
   "source": [
    "df.coalesce(1).write.mode('overwrite').option(\"header\", \"true\").parquet(f'/mnt/adl2/private/50_user/{e_number}/PySpark/Training/tv_shows_movies/tv_shows_movies/')"
   ]
  },
  {
   "cell_type": "code",
   "execution_count": 0,
   "metadata": {
    "application/vnd.databricks.v1+cell": {
     "cellMetadata": {
      "byteLimit": 2048000,
      "rowLimit": 10000
     },
     "inputWidgets": {},
     "nuid": "652ece7b-da62-440a-8f04-a9a7af6483c3",
     "showTitle": false,
     "title": ""
    }
   },
   "outputs": [],
   "source": [
    "df_tvshows.coalesce(1).write.mode('overwrite').option(\"header\", \"true\").parquet(f'/mnt/adl2/private/50_user/{e_number}/PySpark/Training/tv_shows_movies/tv_shows/')"
   ]
  },
  {
   "cell_type": "code",
   "execution_count": 0,
   "metadata": {
    "application/vnd.databricks.v1+cell": {
     "cellMetadata": {
      "byteLimit": 2048000,
      "rowLimit": 10000
     },
     "inputWidgets": {},
     "nuid": "d2b118f3-1e27-4767-aa1a-5b1d630777a1",
     "showTitle": false,
     "title": ""
    }
   },
   "outputs": [],
   "source": [
    "df_movies.coalesce(1).write.mode('overwrite').option(\"header\", \"true\").parquet(f'/mnt/adl2/private/50_user/{e_number}/PySpark/Training/tv_shows_movies/movies/')"
   ]
  }
 ],
 "metadata": {
  "application/vnd.databricks.v1+notebook": {
   "dashboards": [],
   "language": "python",
   "notebookMetadata": {
    "pythonIndentUnit": 4
   },
   "notebookName": "03 Datafram Manipulation with PySpark",
   "widgets": {}
  }
 },
 "nbformat": 4,
 "nbformat_minor": 0
}
