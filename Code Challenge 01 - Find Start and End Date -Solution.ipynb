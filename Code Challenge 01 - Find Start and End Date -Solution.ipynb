{
 "cells": [
  {
   "cell_type": "markdown",
   "metadata": {
    "application/vnd.databricks.v1+cell": {
     "cellMetadata": {
      "byteLimit": 2048000,
      "rowLimit": 10000
     },
     "inputWidgets": {},
     "nuid": "f43536b1-5f04-4eeb-8813-8581f6b1e1b8",
     "showTitle": false,
     "title": ""
    }
   },
   "source": [
    "# Find Start and End Date for each consecutive event status\n",
    "### The objective of the code challenge is order the events by event date and then get the start date and end date between each event change.<br>\n"
   ]
  },
  {
   "cell_type": "code",
   "execution_count": 0,
   "metadata": {
    "application/vnd.databricks.v1+cell": {
     "cellMetadata": {
      "byteLimit": 2048000,
      "rowLimit": 10000
     },
     "inputWidgets": {},
     "nuid": "a2efb71e-cfa8-4f3c-aadd-9c7849b98e4b",
     "showTitle": false,
     "title": ""
    }
   },
   "outputs": [],
   "source": [
    "from pyspark.sql.functions import to_date, col, lag, lead, when, sum, first, last\n",
    "from pyspark.sql.window import Window"
   ]
  },
  {
   "cell_type": "code",
   "execution_count": 0,
   "metadata": {
    "application/vnd.databricks.v1+cell": {
     "cellMetadata": {
      "byteLimit": 2048000,
      "rowLimit": 10000
     },
     "inputWidgets": {},
     "nuid": "2200ad83-91fe-40b5-b16e-10613c5257ca",
     "showTitle": true,
     "title": "Create Dataset"
    }
   },
   "outputs": [
    {
     "output_type": "display_data",
     "data": {
      "text/html": [
       "<style scoped>\n",
       "  .table-result-container {\n",
       "    max-height: 300px;\n",
       "    overflow: auto;\n",
       "  }\n",
       "  table, th, td {\n",
       "    border: 1px solid black;\n",
       "    border-collapse: collapse;\n",
       "  }\n",
       "  th, td {\n",
       "    padding: 5px;\n",
       "  }\n",
       "  th {\n",
       "    text-align: left;\n",
       "  }\n",
       "</style><div class='table-result-container'><table class='table-result'><thead style='background-color: white'><tr><th>event</th><th>event_date</th></tr></thead><tbody><tr><td>win</td><td>2023-10-01</td></tr><tr><td>win</td><td>2023-10-02</td></tr><tr><td>win</td><td>2023-10-03</td></tr><tr><td>win</td><td>2023-10-04</td></tr><tr><td>loss</td><td>2023-10-05</td></tr><tr><td>loss</td><td>2023-10-06</td></tr><tr><td>loss</td><td>2023-10-07</td></tr><tr><td>win</td><td>2023-10-08</td></tr><tr><td>win</td><td>2023-10-09</td></tr><tr><td>win</td><td>2023-10-10</td></tr><tr><td>win</td><td>2023-10-11</td></tr><tr><td>win</td><td>2023-10-12</td></tr><tr><td>loss</td><td>2023-10-13</td></tr></tbody></table></div>"
      ]
     },
     "metadata": {
      "application/vnd.databricks.v1+output": {
       "addedWidgets": {},
       "aggData": [],
       "aggError": "",
       "aggOverflow": false,
       "aggSchema": [],
       "aggSeriesLimitReached": false,
       "aggType": "",
       "arguments": {},
       "columnCustomDisplayInfos": {},
       "data": [
        [
         "win",
         "2023-10-01"
        ],
        [
         "win",
         "2023-10-02"
        ],
        [
         "win",
         "2023-10-03"
        ],
        [
         "win",
         "2023-10-04"
        ],
        [
         "loss",
         "2023-10-05"
        ],
        [
         "loss",
         "2023-10-06"
        ],
        [
         "loss",
         "2023-10-07"
        ],
        [
         "win",
         "2023-10-08"
        ],
        [
         "win",
         "2023-10-09"
        ],
        [
         "win",
         "2023-10-10"
        ],
        [
         "win",
         "2023-10-11"
        ],
        [
         "win",
         "2023-10-12"
        ],
        [
         "loss",
         "2023-10-13"
        ]
       ],
       "datasetInfos": [],
       "dbfsResultPath": null,
       "isJsonSchema": true,
       "metadata": {},
       "overflow": false,
       "plotOptions": {
        "customPlotOptions": {},
        "displayType": "table",
        "pivotAggregation": null,
        "pivotColumns": null,
        "xColumns": null,
        "yColumns": null
       },
       "removedWidgets": [],
       "schema": [
        {
         "metadata": "{}",
         "name": "event",
         "type": "\"string\""
        },
        {
         "metadata": "{}",
         "name": "event_date",
         "type": "\"string\""
        }
       ],
       "type": "table"
      }
     },
     "output_type": "display_data"
    }
   ],
   "source": [
    "data = [('win','2023-10-01'),('win','2023-10-02'),('win','2023-10-03'),('win','2023-10-04'),('loss','2023-10-05'),('loss','2023-10-06'),('loss','2023-10-07'),('win','2023-10-08'),('win','2023-10-09'),('win','2023-10-10'),('win','2023-10-11'),('win','2023-10-12'),('loss','2023-10-13')]\n",
    "df = spark.createDataFrame(data,['event','event_date'])\n",
    "display(df)"
   ]
  },
  {
   "cell_type": "code",
   "execution_count": 0,
   "metadata": {
    "application/vnd.databricks.v1+cell": {
     "cellMetadata": {
      "byteLimit": 2048000,
      "rowLimit": 10000
     },
     "inputWidgets": {},
     "nuid": "331dcdbb-3746-469e-a39c-1c54613a0ef3",
     "showTitle": false,
     "title": ""
    }
   },
   "outputs": [
    {
     "output_type": "display_data",
     "data": {
      "text/html": [
       "<style scoped>\n",
       "  .table-result-container {\n",
       "    max-height: 300px;\n",
       "    overflow: auto;\n",
       "  }\n",
       "  table, th, td {\n",
       "    border: 1px solid black;\n",
       "    border-collapse: collapse;\n",
       "  }\n",
       "  th, td {\n",
       "    padding: 5px;\n",
       "  }\n",
       "  th {\n",
       "    text-align: left;\n",
       "  }\n",
       "</style><div class='table-result-container'><table class='table-result'><thead style='background-color: white'><tr><th>event</th><th>event_date</th></tr></thead><tbody><tr><td>win</td><td>2023-10-01</td></tr><tr><td>win</td><td>2023-10-02</td></tr><tr><td>win</td><td>2023-10-03</td></tr><tr><td>win</td><td>2023-10-04</td></tr><tr><td>loss</td><td>2023-10-05</td></tr><tr><td>loss</td><td>2023-10-06</td></tr><tr><td>loss</td><td>2023-10-07</td></tr><tr><td>win</td><td>2023-10-08</td></tr><tr><td>win</td><td>2023-10-09</td></tr><tr><td>win</td><td>2023-10-10</td></tr><tr><td>win</td><td>2023-10-11</td></tr><tr><td>win</td><td>2023-10-12</td></tr><tr><td>loss</td><td>2023-10-13</td></tr></tbody></table></div>"
      ]
     },
     "metadata": {
      "application/vnd.databricks.v1+output": {
       "addedWidgets": {},
       "aggData": [],
       "aggError": "",
       "aggOverflow": false,
       "aggSchema": [],
       "aggSeriesLimitReached": false,
       "aggType": "",
       "arguments": {},
       "columnCustomDisplayInfos": {},
       "data": [
        [
         "win",
         "2023-10-01"
        ],
        [
         "win",
         "2023-10-02"
        ],
        [
         "win",
         "2023-10-03"
        ],
        [
         "win",
         "2023-10-04"
        ],
        [
         "loss",
         "2023-10-05"
        ],
        [
         "loss",
         "2023-10-06"
        ],
        [
         "loss",
         "2023-10-07"
        ],
        [
         "win",
         "2023-10-08"
        ],
        [
         "win",
         "2023-10-09"
        ],
        [
         "win",
         "2023-10-10"
        ],
        [
         "win",
         "2023-10-11"
        ],
        [
         "win",
         "2023-10-12"
        ],
        [
         "loss",
         "2023-10-13"
        ]
       ],
       "datasetInfos": [],
       "dbfsResultPath": null,
       "isJsonSchema": true,
       "metadata": {},
       "overflow": false,
       "plotOptions": {
        "customPlotOptions": {},
        "displayType": "table",
        "pivotAggregation": null,
        "pivotColumns": null,
        "xColumns": null,
        "yColumns": null
       },
       "removedWidgets": [],
       "schema": [
        {
         "metadata": "{}",
         "name": "event",
         "type": "\"string\""
        },
        {
         "metadata": "{}",
         "name": "event_date",
         "type": "\"date\""
        }
       ],
       "type": "table"
      }
     },
     "output_type": "display_data"
    }
   ],
   "source": [
    "df = df.withColumn('event_date',to_date(col('event_date')))\n",
    "display(df)"
   ]
  },
  {
   "cell_type": "code",
   "execution_count": 0,
   "metadata": {
    "application/vnd.databricks.v1+cell": {
     "cellMetadata": {
      "byteLimit": 2048000,
      "rowLimit": 10000
     },
     "inputWidgets": {},
     "nuid": "24ad7c3b-d0ad-42a4-9fde-a107a00a87cf",
     "showTitle": false,
     "title": ""
    }
   },
   "outputs": [
    {
     "output_type": "display_data",
     "data": {
      "text/html": [
       "<style scoped>\n",
       "  .table-result-container {\n",
       "    max-height: 300px;\n",
       "    overflow: auto;\n",
       "  }\n",
       "  table, th, td {\n",
       "    border: 1px solid black;\n",
       "    border-collapse: collapse;\n",
       "  }\n",
       "  th, td {\n",
       "    padding: 5px;\n",
       "  }\n",
       "  th {\n",
       "    text-align: left;\n",
       "  }\n",
       "</style><div class='table-result-container'><table class='table-result'><thead style='background-color: white'><tr><th>event</th><th>event_date</th><th>event_change</th></tr></thead><tbody><tr><td>win</td><td>2023-10-01</td><td>0</td></tr><tr><td>win</td><td>2023-10-02</td><td>0</td></tr><tr><td>win</td><td>2023-10-03</td><td>0</td></tr><tr><td>win</td><td>2023-10-04</td><td>0</td></tr><tr><td>loss</td><td>2023-10-05</td><td>1</td></tr><tr><td>loss</td><td>2023-10-06</td><td>0</td></tr><tr><td>loss</td><td>2023-10-07</td><td>0</td></tr><tr><td>win</td><td>2023-10-08</td><td>1</td></tr><tr><td>win</td><td>2023-10-09</td><td>0</td></tr><tr><td>win</td><td>2023-10-10</td><td>0</td></tr><tr><td>win</td><td>2023-10-11</td><td>0</td></tr><tr><td>win</td><td>2023-10-12</td><td>0</td></tr><tr><td>loss</td><td>2023-10-13</td><td>1</td></tr></tbody></table></div>"
      ]
     },
     "metadata": {
      "application/vnd.databricks.v1+output": {
       "addedWidgets": {},
       "aggData": [],
       "aggError": "",
       "aggOverflow": false,
       "aggSchema": [],
       "aggSeriesLimitReached": false,
       "aggType": "",
       "arguments": {},
       "columnCustomDisplayInfos": {},
       "data": [
        [
         "win",
         "2023-10-01",
         0
        ],
        [
         "win",
         "2023-10-02",
         0
        ],
        [
         "win",
         "2023-10-03",
         0
        ],
        [
         "win",
         "2023-10-04",
         0
        ],
        [
         "loss",
         "2023-10-05",
         1
        ],
        [
         "loss",
         "2023-10-06",
         0
        ],
        [
         "loss",
         "2023-10-07",
         0
        ],
        [
         "win",
         "2023-10-08",
         1
        ],
        [
         "win",
         "2023-10-09",
         0
        ],
        [
         "win",
         "2023-10-10",
         0
        ],
        [
         "win",
         "2023-10-11",
         0
        ],
        [
         "win",
         "2023-10-12",
         0
        ],
        [
         "loss",
         "2023-10-13",
         1
        ]
       ],
       "datasetInfos": [],
       "dbfsResultPath": null,
       "isJsonSchema": true,
       "metadata": {},
       "overflow": false,
       "plotOptions": {
        "customPlotOptions": {},
        "displayType": "table",
        "pivotAggregation": null,
        "pivotColumns": null,
        "xColumns": null,
        "yColumns": null
       },
       "removedWidgets": [],
       "schema": [
        {
         "metadata": "{}",
         "name": "event",
         "type": "\"string\""
        },
        {
         "metadata": "{}",
         "name": "event_date",
         "type": "\"date\""
        },
        {
         "metadata": "{}",
         "name": "event_change",
         "type": "\"integer\""
        }
       ],
       "type": "table"
      }
     },
     "output_type": "display_data"
    }
   ],
   "source": [
    "df_event_change = df.withColumn('event_change', when(col('event') != lag('event').over(Window.orderBy('event_date')),1).otherwise(0))\n",
    "df_event_change.display()"
   ]
  },
  {
   "cell_type": "code",
   "execution_count": 0,
   "metadata": {
    "application/vnd.databricks.v1+cell": {
     "cellMetadata": {
      "byteLimit": 2048000,
      "rowLimit": 10000
     },
     "inputWidgets": {},
     "nuid": "efaeb737-3262-45e4-915b-6a94795167c1",
     "showTitle": false,
     "title": ""
    }
   },
   "outputs": [
    {
     "output_type": "display_data",
     "data": {
      "text/html": [
       "<style scoped>\n",
       "  .table-result-container {\n",
       "    max-height: 300px;\n",
       "    overflow: auto;\n",
       "  }\n",
       "  table, th, td {\n",
       "    border: 1px solid black;\n",
       "    border-collapse: collapse;\n",
       "  }\n",
       "  th, td {\n",
       "    padding: 5px;\n",
       "  }\n",
       "  th {\n",
       "    text-align: left;\n",
       "  }\n",
       "</style><div class='table-result-container'><table class='table-result'><thead style='background-color: white'><tr><th>event</th><th>event_date</th><th>event_change</th><th>event_group</th></tr></thead><tbody><tr><td>win</td><td>2023-10-01</td><td>0</td><td>0</td></tr><tr><td>win</td><td>2023-10-02</td><td>0</td><td>0</td></tr><tr><td>win</td><td>2023-10-03</td><td>0</td><td>0</td></tr><tr><td>win</td><td>2023-10-04</td><td>0</td><td>0</td></tr><tr><td>loss</td><td>2023-10-05</td><td>1</td><td>1</td></tr><tr><td>loss</td><td>2023-10-06</td><td>0</td><td>1</td></tr><tr><td>loss</td><td>2023-10-07</td><td>0</td><td>1</td></tr><tr><td>win</td><td>2023-10-08</td><td>1</td><td>2</td></tr><tr><td>win</td><td>2023-10-09</td><td>0</td><td>2</td></tr><tr><td>win</td><td>2023-10-10</td><td>0</td><td>2</td></tr><tr><td>win</td><td>2023-10-11</td><td>0</td><td>2</td></tr><tr><td>win</td><td>2023-10-12</td><td>0</td><td>2</td></tr><tr><td>loss</td><td>2023-10-13</td><td>1</td><td>3</td></tr></tbody></table></div>"
      ]
     },
     "metadata": {
      "application/vnd.databricks.v1+output": {
       "addedWidgets": {},
       "aggData": [],
       "aggError": "",
       "aggOverflow": false,
       "aggSchema": [],
       "aggSeriesLimitReached": false,
       "aggType": "",
       "arguments": {},
       "columnCustomDisplayInfos": {},
       "data": [
        [
         "win",
         "2023-10-01",
         0,
         0
        ],
        [
         "win",
         "2023-10-02",
         0,
         0
        ],
        [
         "win",
         "2023-10-03",
         0,
         0
        ],
        [
         "win",
         "2023-10-04",
         0,
         0
        ],
        [
         "loss",
         "2023-10-05",
         1,
         1
        ],
        [
         "loss",
         "2023-10-06",
         0,
         1
        ],
        [
         "loss",
         "2023-10-07",
         0,
         1
        ],
        [
         "win",
         "2023-10-08",
         1,
         2
        ],
        [
         "win",
         "2023-10-09",
         0,
         2
        ],
        [
         "win",
         "2023-10-10",
         0,
         2
        ],
        [
         "win",
         "2023-10-11",
         0,
         2
        ],
        [
         "win",
         "2023-10-12",
         0,
         2
        ],
        [
         "loss",
         "2023-10-13",
         1,
         3
        ]
       ],
       "datasetInfos": [],
       "dbfsResultPath": null,
       "isJsonSchema": true,
       "metadata": {},
       "overflow": false,
       "plotOptions": {
        "customPlotOptions": {},
        "displayType": "table",
        "pivotAggregation": null,
        "pivotColumns": null,
        "xColumns": null,
        "yColumns": null
       },
       "removedWidgets": [],
       "schema": [
        {
         "metadata": "{}",
         "name": "event",
         "type": "\"string\""
        },
        {
         "metadata": "{}",
         "name": "event_date",
         "type": "\"date\""
        },
        {
         "metadata": "{}",
         "name": "event_change",
         "type": "\"integer\""
        },
        {
         "metadata": "{}",
         "name": "event_group",
         "type": "\"long\""
        }
       ],
       "type": "table"
      }
     },
     "output_type": "display_data"
    }
   ],
   "source": [
    "df_event_change = df_event_change.withColumn('event_group', sum('event_change').over(Window.orderBy('event_date')))\n",
    "df_event_change.display()"
   ]
  },
  {
   "cell_type": "code",
   "execution_count": 0,
   "metadata": {
    "application/vnd.databricks.v1+cell": {
     "cellMetadata": {
      "byteLimit": 2048000,
      "rowLimit": 10000
     },
     "inputWidgets": {},
     "nuid": "83bfc793-1984-49df-87b1-1fc265b0562b",
     "showTitle": false,
     "title": ""
    }
   },
   "outputs": [
    {
     "output_type": "display_data",
     "data": {
      "text/html": [
       "<style scoped>\n",
       "  .table-result-container {\n",
       "    max-height: 300px;\n",
       "    overflow: auto;\n",
       "  }\n",
       "  table, th, td {\n",
       "    border: 1px solid black;\n",
       "    border-collapse: collapse;\n",
       "  }\n",
       "  th, td {\n",
       "    padding: 5px;\n",
       "  }\n",
       "  th {\n",
       "    text-align: left;\n",
       "  }\n",
       "</style><div class='table-result-container'><table class='table-result'><thead style='background-color: white'><tr><th>event</th><th>start_date</th><th>end_date</th></tr></thead><tbody><tr><td>win</td><td>2023-10-01</td><td>2023-10-04</td></tr><tr><td>loss</td><td>2023-10-05</td><td>2023-10-07</td></tr><tr><td>win</td><td>2023-10-08</td><td>2023-10-12</td></tr><tr><td>loss</td><td>2023-10-13</td><td>2023-10-13</td></tr></tbody></table></div>"
      ]
     },
     "metadata": {
      "application/vnd.databricks.v1+output": {
       "addedWidgets": {},
       "aggData": [],
       "aggError": "",
       "aggOverflow": false,
       "aggSchema": [],
       "aggSeriesLimitReached": false,
       "aggType": "",
       "arguments": {},
       "columnCustomDisplayInfos": {},
       "data": [
        [
         "win",
         "2023-10-01",
         "2023-10-04"
        ],
        [
         "loss",
         "2023-10-05",
         "2023-10-07"
        ],
        [
         "win",
         "2023-10-08",
         "2023-10-12"
        ],
        [
         "loss",
         "2023-10-13",
         "2023-10-13"
        ]
       ],
       "datasetInfos": [],
       "dbfsResultPath": null,
       "isJsonSchema": true,
       "metadata": {},
       "overflow": false,
       "plotOptions": {
        "customPlotOptions": {},
        "displayType": "table",
        "pivotAggregation": null,
        "pivotColumns": null,
        "xColumns": null,
        "yColumns": null
       },
       "removedWidgets": [],
       "schema": [
        {
         "metadata": "{}",
         "name": "event",
         "type": "\"string\""
        },
        {
         "metadata": "{}",
         "name": "start_date",
         "type": "\"date\""
        },
        {
         "metadata": "{}",
         "name": "end_date",
         "type": "\"date\""
        }
       ],
       "type": "table"
      }
     },
     "output_type": "display_data"
    }
   ],
   "source": [
    "df_event_result = df_event_change.groupBy('event_group','event').agg(first('event_date').alias('start_date'),last('event_date').alias('end_date')).drop('event_group')\n",
    "\n",
    "df_event_result.display()"
   ]
  }
 ],
 "metadata": {
  "application/vnd.databricks.v1+notebook": {
   "dashboards": [],
   "language": "python",
   "notebookMetadata": {
    "pythonIndentUnit": 4
   },
   "notebookName": "Code Challenge 01 - Find Start and End Date -Solution",
   "widgets": {}
  }
 },
 "nbformat": 4,
 "nbformat_minor": 0
}
