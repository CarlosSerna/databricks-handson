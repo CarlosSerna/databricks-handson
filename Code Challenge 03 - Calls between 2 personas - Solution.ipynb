{
 "cells": [
  {
   "cell_type": "markdown",
   "metadata": {
    "application/vnd.databricks.v1+cell": {
     "cellMetadata": {
      "byteLimit": 2048000,
      "rowLimit": 10000
     },
     "inputWidgets": {},
     "nuid": "f43536b1-5f04-4eeb-8813-8581f6b1e1b8",
     "showTitle": false,
     "title": ""
    }
   },
   "source": [
    "# Calls between two personas\n",
    "### The objective of the code challenge is to get the number of calls between two personas and the total duration.<br>\n",
    "\n",
    "> *Is not important who dial the call and who received the call\n"
   ]
  },
  {
   "cell_type": "code",
   "execution_count": 0,
   "metadata": {
    "application/vnd.databricks.v1+cell": {
     "cellMetadata": {
      "byteLimit": 2048000,
      "rowLimit": 10000
     },
     "inputWidgets": {},
     "nuid": "a2efb71e-cfa8-4f3c-aadd-9c7849b98e4b",
     "showTitle": false,
     "title": ""
    }
   },
   "outputs": [],
   "source": [
    "from pyspark.sql.functions import to_date, col, lag, lead, when, sum, first, last, array, array_sort, count, get\n",
    "from pyspark.sql.window import Window"
   ]
  },
  {
   "cell_type": "code",
   "execution_count": 0,
   "metadata": {
    "application/vnd.databricks.v1+cell": {
     "cellMetadata": {
      "byteLimit": 2048000,
      "rowLimit": 10000
     },
     "inputWidgets": {},
     "nuid": "2200ad83-91fe-40b5-b16e-10613c5257ca",
     "showTitle": true,
     "title": "Create Dataset"
    }
   },
   "outputs": [
    {
     "output_type": "display_data",
     "data": {
      "text/html": [
       "<style scoped>\n",
       "  .table-result-container {\n",
       "    max-height: 300px;\n",
       "    overflow: auto;\n",
       "  }\n",
       "  table, th, td {\n",
       "    border: 1px solid black;\n",
       "    border-collapse: collapse;\n",
       "  }\n",
       "  th, td {\n",
       "    padding: 5px;\n",
       "  }\n",
       "  th {\n",
       "    text-align: left;\n",
       "  }\n",
       "</style><div class='table-result-container'><table class='table-result'><thead style='background-color: white'><tr><th>from_id</th><th>to_id</th><th>duration</th></tr></thead><tbody><tr><td>50</td><td>20</td><td>60</td></tr><tr><td>20</td><td>30</td><td>25</td></tr><tr><td>40</td><td>80</td><td>13</td></tr><tr><td>90</td><td>70</td><td>45</td></tr><tr><td>70</td><td>90</td><td>30</td></tr><tr><td>80</td><td>40</td><td>12</td></tr><tr><td>20</td><td>50</td><td>9</td></tr><tr><td>10</td><td>60</td><td>3</td></tr><tr><td>40</td><td>80</td><td>7</td></tr><tr><td>60</td><td>70</td><td>30</td></tr><tr><td>90</td><td>70</td><td>20</td></tr><tr><td>70</td><td>60</td><td>9</td></tr></tbody></table></div>"
      ]
     },
     "metadata": {
      "application/vnd.databricks.v1+output": {
       "addedWidgets": {},
       "aggData": [],
       "aggError": "",
       "aggOverflow": false,
       "aggSchema": [],
       "aggSeriesLimitReached": false,
       "aggType": "",
       "arguments": {},
       "columnCustomDisplayInfos": {},
       "data": [
        [
         50,
         20,
         60
        ],
        [
         20,
         30,
         25
        ],
        [
         40,
         80,
         13
        ],
        [
         90,
         70,
         45
        ],
        [
         70,
         90,
         30
        ],
        [
         80,
         40,
         12
        ],
        [
         20,
         50,
         9
        ],
        [
         10,
         60,
         3
        ],
        [
         40,
         80,
         7
        ],
        [
         60,
         70,
         30
        ],
        [
         90,
         70,
         20
        ],
        [
         70,
         60,
         9
        ]
       ],
       "datasetInfos": [],
       "dbfsResultPath": null,
       "isJsonSchema": true,
       "metadata": {},
       "overflow": false,
       "plotOptions": {
        "customPlotOptions": {},
        "displayType": "table",
        "pivotAggregation": null,
        "pivotColumns": null,
        "xColumns": null,
        "yColumns": null
       },
       "removedWidgets": [],
       "schema": [
        {
         "metadata": "{}",
         "name": "from_id",
         "type": "\"long\""
        },
        {
         "metadata": "{}",
         "name": "to_id",
         "type": "\"long\""
        },
        {
         "metadata": "{}",
         "name": "duration",
         "type": "\"long\""
        }
       ],
       "type": "table"
      }
     },
     "output_type": "display_data"
    }
   ],
   "source": [
    "data = [\n",
    "  (50,20,60),\n",
    "  (20,30,25),\n",
    "  (40,80,13),\n",
    "  (90,70,45),\n",
    "  (70,90,30),\n",
    "  (80,40,12),\n",
    "  (20,50,9),\n",
    "  (10,60,3),\n",
    "  (40,80,7),\n",
    "  (60,70,30),\n",
    "  (90,70,20),\n",
    "  (70,60,9)\n",
    "  ]\n",
    "\n",
    "df = spark.createDataFrame(data,['from_id','to_id','duration'])\n",
    "display(df)"
   ]
  },
  {
   "cell_type": "markdown",
   "metadata": {
    "application/vnd.databricks.v1+cell": {
     "cellMetadata": {
      "byteLimit": 2048000,
      "rowLimit": 10000
     },
     "inputWidgets": {},
     "nuid": "3624a588-e96a-46d2-b378-b307700eb1be",
     "showTitle": false,
     "title": ""
    }
   },
   "source": [
    "## Solution 1"
   ]
  },
  {
   "cell_type": "code",
   "execution_count": 0,
   "metadata": {
    "application/vnd.databricks.v1+cell": {
     "cellMetadata": {
      "byteLimit": 2048000,
      "rowLimit": 10000
     },
     "inputWidgets": {},
     "nuid": "c2728cb5-cfee-4f32-8bfa-12d1ef2ebbd2",
     "showTitle": false,
     "title": ""
    }
   },
   "outputs": [],
   "source": [
    "df_array = df.withColumn('ids', array_sort(array('from_id','to_id')))"
   ]
  },
  {
   "cell_type": "code",
   "execution_count": 0,
   "metadata": {
    "application/vnd.databricks.v1+cell": {
     "cellMetadata": {
      "byteLimit": 2048000,
      "rowLimit": 10000
     },
     "inputWidgets": {},
     "nuid": "f35bb01e-7d36-40e1-9f7e-5c502eb6d080",
     "showTitle": false,
     "title": ""
    }
   },
   "outputs": [
    {
     "output_type": "display_data",
     "data": {
      "text/html": [
       "<style scoped>\n",
       "  .table-result-container {\n",
       "    max-height: 300px;\n",
       "    overflow: auto;\n",
       "  }\n",
       "  table, th, td {\n",
       "    border: 1px solid black;\n",
       "    border-collapse: collapse;\n",
       "  }\n",
       "  th, td {\n",
       "    padding: 5px;\n",
       "  }\n",
       "  th {\n",
       "    text-align: left;\n",
       "  }\n",
       "</style><div class='table-result-container'><table class='table-result'><thead style='background-color: white'><tr><th>person1</th><th>person2</th><th>call_count</th><th>total_duration</th></tr></thead><tbody><tr><td>10</td><td>60</td><td>1</td><td>3</td></tr><tr><td>20</td><td>30</td><td>1</td><td>25</td></tr><tr><td>20</td><td>50</td><td>2</td><td>69</td></tr><tr><td>40</td><td>80</td><td>3</td><td>32</td></tr><tr><td>60</td><td>70</td><td>2</td><td>39</td></tr><tr><td>70</td><td>90</td><td>3</td><td>95</td></tr></tbody></table></div>"
      ]
     },
     "metadata": {
      "application/vnd.databricks.v1+output": {
       "addedWidgets": {},
       "aggData": [],
       "aggError": "",
       "aggOverflow": false,
       "aggSchema": [],
       "aggSeriesLimitReached": false,
       "aggType": "",
       "arguments": {},
       "columnCustomDisplayInfos": {},
       "data": [
        [
         10,
         60,
         1,
         3
        ],
        [
         20,
         30,
         1,
         25
        ],
        [
         20,
         50,
         2,
         69
        ],
        [
         40,
         80,
         3,
         32
        ],
        [
         60,
         70,
         2,
         39
        ],
        [
         70,
         90,
         3,
         95
        ]
       ],
       "datasetInfos": [],
       "dbfsResultPath": null,
       "isJsonSchema": true,
       "metadata": {},
       "overflow": false,
       "plotOptions": {
        "customPlotOptions": {},
        "displayType": "table",
        "pivotAggregation": null,
        "pivotColumns": null,
        "xColumns": null,
        "yColumns": null
       },
       "removedWidgets": [],
       "schema": [
        {
         "metadata": "{}",
         "name": "person1",
         "type": "\"long\""
        },
        {
         "metadata": "{}",
         "name": "person2",
         "type": "\"long\""
        },
        {
         "metadata": "{}",
         "name": "call_count",
         "type": "\"long\""
        },
        {
         "metadata": "{}",
         "name": "total_duration",
         "type": "\"long\""
        }
       ],
       "type": "table"
      }
     },
     "output_type": "display_data"
    }
   ],
   "source": [
    "df_array = df_array.groupBy(get(df_array.ids,0).alias('person1'),get(df_array.ids,1).alias('person2')).agg(count('duration').alias('call_count'),sum('duration').alias('total_duration')).orderBy('person1','person2')\n",
    "display(df_array)"
   ]
  },
  {
   "cell_type": "markdown",
   "metadata": {
    "application/vnd.databricks.v1+cell": {
     "cellMetadata": {
      "byteLimit": 2048000,
      "rowLimit": 10000
     },
     "inputWidgets": {},
     "nuid": "170e40b6-83aa-4870-96be-52cafd65bb26",
     "showTitle": false,
     "title": ""
    }
   },
   "source": [
    "## Solution 2"
   ]
  },
  {
   "cell_type": "code",
   "execution_count": 0,
   "metadata": {
    "application/vnd.databricks.v1+cell": {
     "cellMetadata": {
      "byteLimit": 2048000,
      "rowLimit": 10000
     },
     "inputWidgets": {},
     "nuid": "09063994-33d1-4b7b-9346-50cc83094e87",
     "showTitle": false,
     "title": ""
    }
   },
   "outputs": [
    {
     "output_type": "display_data",
     "data": {
      "text/html": [
       "<style scoped>\n",
       "  .table-result-container {\n",
       "    max-height: 300px;\n",
       "    overflow: auto;\n",
       "  }\n",
       "  table, th, td {\n",
       "    border: 1px solid black;\n",
       "    border-collapse: collapse;\n",
       "  }\n",
       "  th, td {\n",
       "    padding: 5px;\n",
       "  }\n",
       "  th {\n",
       "    text-align: left;\n",
       "  }\n",
       "</style><div class='table-result-container'><table class='table-result'><thead style='background-color: white'><tr><th>from_id</th><th>to_id</th><th>duration</th><th>person1</th><th>person2</th></tr></thead><tbody><tr><td>50</td><td>20</td><td>60</td><td>20</td><td>50</td></tr><tr><td>20</td><td>30</td><td>25</td><td>20</td><td>30</td></tr><tr><td>40</td><td>80</td><td>13</td><td>40</td><td>80</td></tr><tr><td>90</td><td>70</td><td>45</td><td>70</td><td>90</td></tr><tr><td>70</td><td>90</td><td>30</td><td>70</td><td>90</td></tr><tr><td>80</td><td>40</td><td>12</td><td>40</td><td>80</td></tr><tr><td>20</td><td>50</td><td>9</td><td>20</td><td>50</td></tr><tr><td>10</td><td>60</td><td>3</td><td>10</td><td>60</td></tr><tr><td>40</td><td>80</td><td>7</td><td>40</td><td>80</td></tr><tr><td>60</td><td>70</td><td>30</td><td>60</td><td>70</td></tr><tr><td>90</td><td>70</td><td>20</td><td>70</td><td>90</td></tr><tr><td>70</td><td>60</td><td>9</td><td>60</td><td>70</td></tr></tbody></table></div>"
      ]
     },
     "metadata": {
      "application/vnd.databricks.v1+output": {
       "addedWidgets": {},
       "aggData": [],
       "aggError": "",
       "aggOverflow": false,
       "aggSchema": [],
       "aggSeriesLimitReached": false,
       "aggType": "",
       "arguments": {},
       "columnCustomDisplayInfos": {},
       "data": [
        [
         50,
         20,
         60,
         20,
         50
        ],
        [
         20,
         30,
         25,
         20,
         30
        ],
        [
         40,
         80,
         13,
         40,
         80
        ],
        [
         90,
         70,
         45,
         70,
         90
        ],
        [
         70,
         90,
         30,
         70,
         90
        ],
        [
         80,
         40,
         12,
         40,
         80
        ],
        [
         20,
         50,
         9,
         20,
         50
        ],
        [
         10,
         60,
         3,
         10,
         60
        ],
        [
         40,
         80,
         7,
         40,
         80
        ],
        [
         60,
         70,
         30,
         60,
         70
        ],
        [
         90,
         70,
         20,
         70,
         90
        ],
        [
         70,
         60,
         9,
         60,
         70
        ]
       ],
       "datasetInfos": [],
       "dbfsResultPath": null,
       "isJsonSchema": true,
       "metadata": {},
       "overflow": false,
       "plotOptions": {
        "customPlotOptions": {},
        "displayType": "table",
        "pivotAggregation": null,
        "pivotColumns": null,
        "xColumns": null,
        "yColumns": null
       },
       "removedWidgets": [],
       "schema": [
        {
         "metadata": "{}",
         "name": "from_id",
         "type": "\"long\""
        },
        {
         "metadata": "{}",
         "name": "to_id",
         "type": "\"long\""
        },
        {
         "metadata": "{}",
         "name": "duration",
         "type": "\"long\""
        },
        {
         "metadata": "{}",
         "name": "person1",
         "type": "\"long\""
        },
        {
         "metadata": "{}",
         "name": "person2",
         "type": "\"long\""
        }
       ],
       "type": "table"
      }
     },
     "output_type": "display_data"
    }
   ],
   "source": [
    "df_case = df.withColumn('person1', when(col('from_id') > col('to_id'),col('to_id')).otherwise(col('from_id')) ).withColumn('person2', when(col('from_id') < col('to_id'),col('to_id')).otherwise(col('from_id')) )\n",
    "df_case.display()"
   ]
  },
  {
   "cell_type": "code",
   "execution_count": 0,
   "metadata": {
    "application/vnd.databricks.v1+cell": {
     "cellMetadata": {
      "byteLimit": 2048000,
      "rowLimit": 10000
     },
     "inputWidgets": {},
     "nuid": "43ad0bd4-96f7-481b-a7c3-063cb33c6c6c",
     "showTitle": false,
     "title": ""
    }
   },
   "outputs": [
    {
     "output_type": "display_data",
     "data": {
      "text/html": [
       "<style scoped>\n",
       "  .table-result-container {\n",
       "    max-height: 300px;\n",
       "    overflow: auto;\n",
       "  }\n",
       "  table, th, td {\n",
       "    border: 1px solid black;\n",
       "    border-collapse: collapse;\n",
       "  }\n",
       "  th, td {\n",
       "    padding: 5px;\n",
       "  }\n",
       "  th {\n",
       "    text-align: left;\n",
       "  }\n",
       "</style><div class='table-result-container'><table class='table-result'><thead style='background-color: white'><tr><th>person1</th><th>person2</th><th>call_count</th><th>total_duration</th></tr></thead><tbody><tr><td>10</td><td>60</td><td>1</td><td>3</td></tr><tr><td>20</td><td>30</td><td>1</td><td>25</td></tr><tr><td>20</td><td>50</td><td>2</td><td>69</td></tr><tr><td>40</td><td>80</td><td>3</td><td>32</td></tr><tr><td>60</td><td>70</td><td>2</td><td>39</td></tr><tr><td>70</td><td>90</td><td>3</td><td>95</td></tr></tbody></table></div>"
      ]
     },
     "metadata": {
      "application/vnd.databricks.v1+output": {
       "addedWidgets": {},
       "aggData": [],
       "aggError": "",
       "aggOverflow": false,
       "aggSchema": [],
       "aggSeriesLimitReached": false,
       "aggType": "",
       "arguments": {},
       "columnCustomDisplayInfos": {},
       "data": [
        [
         10,
         60,
         1,
         3
        ],
        [
         20,
         30,
         1,
         25
        ],
        [
         20,
         50,
         2,
         69
        ],
        [
         40,
         80,
         3,
         32
        ],
        [
         60,
         70,
         2,
         39
        ],
        [
         70,
         90,
         3,
         95
        ]
       ],
       "datasetInfos": [],
       "dbfsResultPath": null,
       "isJsonSchema": true,
       "metadata": {},
       "overflow": false,
       "plotOptions": {
        "customPlotOptions": {},
        "displayType": "table",
        "pivotAggregation": null,
        "pivotColumns": null,
        "xColumns": null,
        "yColumns": null
       },
       "removedWidgets": [],
       "schema": [
        {
         "metadata": "{}",
         "name": "person1",
         "type": "\"long\""
        },
        {
         "metadata": "{}",
         "name": "person2",
         "type": "\"long\""
        },
        {
         "metadata": "{}",
         "name": "call_count",
         "type": "\"long\""
        },
        {
         "metadata": "{}",
         "name": "total_duration",
         "type": "\"long\""
        }
       ],
       "type": "table"
      }
     },
     "output_type": "display_data"
    }
   ],
   "source": [
    "df_case = df_case.groupBy('person1','person2').agg(count('duration').alias('call_count'),sum('duration').alias('total_duration')).orderBy('person1','person2')\n",
    "df_case.display()"
   ]
  },
  {
   "cell_type": "code",
   "execution_count": 0,
   "metadata": {
    "application/vnd.databricks.v1+cell": {
     "cellMetadata": {},
     "inputWidgets": {},
     "nuid": "e513be09-836b-446a-b575-fcc2be29fff3",
     "showTitle": false,
     "title": ""
    }
   },
   "outputs": [],
   "source": []
  }
 ],
 "metadata": {
  "application/vnd.databricks.v1+notebook": {
   "dashboards": [],
   "language": "python",
   "notebookMetadata": {
    "pythonIndentUnit": 4
   },
   "notebookName": "Code Challenge 03 - Calls between 2 personas - Solution",
   "widgets": {}
  }
 },
 "nbformat": 4,
 "nbformat_minor": 0
}
